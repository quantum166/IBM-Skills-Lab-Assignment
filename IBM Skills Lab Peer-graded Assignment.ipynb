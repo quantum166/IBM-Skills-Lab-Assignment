{
 "cells": [
  {
   "cell_type": "markdown",
   "id": "8ee0ea61",
   "metadata": {},
   "source": [
    "# My Jupyter Notebook on IBM Watson Studio"
   ]
  },
  {
   "cell_type": "markdown",
   "id": "96730a4d",
   "metadata": {},
   "source": [
    "### Jonathan Fernandez\n",
    "Assembly Technician II"
   ]
  },
  {
   "cell_type": "markdown",
   "id": "0337e4b9",
   "metadata": {},
   "source": [
    " ###### The main thing that interests me the most in data science is that it is very practical for solving real-world problems. For instance, The company that I work at uses data science and artificial intelligence to predict breast cancer in women by just having the patient blow into a breath bag. Data science can be applyed to make predictions noteably in the financial and medical industries but can be used and applied to many industries. I am interested in data science because I have a master's dedree in Physics, and I realize that data science is becoming very important for research. "
   ]
  },
  {
   "cell_type": "markdown",
   "id": "5ea67cc8",
   "metadata": {},
   "source": [
    " Assigns x and y to a value of 2 and 3, then takes x raised to the power of 3 and adds it to y raised to the power of 5. "
   ]
  },
  {
   "cell_type": "code",
   "execution_count": 6,
   "id": "e42d5edc",
   "metadata": {},
   "outputs": [
    {
     "data": {
      "text/plain": [
       "251"
      ]
     },
     "execution_count": 6,
     "metadata": {},
     "output_type": "execute_result"
    }
   ],
   "source": [
    "x = 2\n",
    "y=3\n",
    "\n",
    "x**3+y**5"
   ]
  },
  {
   "cell_type": "markdown",
   "id": "8293a47a",
   "metadata": {},
   "source": [
    "horizontal line \n",
    "\n",
    "|Code|Game|Solve complex problems|\n",
    "|----|----|----------------------|\n",
    "|0101|6160|7262927|\n",
    "\n",
    "Bullet points \n",
    "* code\n",
    "* Game\n",
    "* Solve comlex probles \n",
    "\n",
    "Hyperlink\n",
    "# https://cloud.ibm.com/catalog\n",
    "\n",
    "LaTeX\n",
    "$$ \\frac{1}{2} + \\frac{3}{4} * 10^5 -\\int{x^3}dx $$"
   ]
  },
  {
   "cell_type": "code",
   "execution_count": null,
   "id": "dd6f1245",
   "metadata": {},
   "outputs": [],
   "source": []
  }
 ],
 "metadata": {
  "kernelspec": {
   "display_name": "Python 3 (ipykernel)",
   "language": "python",
   "name": "python3"
  },
  "language_info": {
   "codemirror_mode": {
    "name": "ipython",
    "version": 3
   },
   "file_extension": ".py",
   "mimetype": "text/x-python",
   "name": "python",
   "nbconvert_exporter": "python",
   "pygments_lexer": "ipython3",
   "version": "3.9.12"
  }
 },
 "nbformat": 4,
 "nbformat_minor": 5
}
